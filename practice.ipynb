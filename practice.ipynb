{
 "cells": [
  {
   "cell_type": "code",
   "execution_count": 2,
   "id": "4561cedb",
   "metadata": {},
   "outputs": [
    {
     "name": "stdout",
     "output_type": "stream",
     "text": [
      "you are old\n"
     ]
    }
   ],
   "source": [
    "## This is single line comment\n",
    "# Indentation \n",
    "age = 32\n",
    "if age > 30:\n",
    "    print(\"you are old\")\n",
    "else:\n",
    "    print(\"you are young\")\n"
   ]
  },
  {
   "cell_type": "code",
   "execution_count": 3,
   "id": "0a1f13f6",
   "metadata": {},
   "outputs": [
    {
     "name": "stdout",
     "output_type": "stream",
     "text": [
      "91\n"
     ]
    }
   ],
   "source": [
    "#Line Continuation (use a backslash)\n",
    "total = 1+2+3+4+5+6+7+ \\\n",
    "8+9+10+11 \\\n",
    "+12+13\n",
    "\n",
    "print(total)"
   ]
  },
  {
   "cell_type": "code",
   "execution_count": 4,
   "id": "e49b8681",
   "metadata": {},
   "outputs": [
    {
     "name": "stdout",
     "output_type": "stream",
     "text": [
      "15\n"
     ]
    }
   ],
   "source": [
    "#Multiple statement on single line\n",
    "x=5;y=10;z=x+y\n",
    "print(z)"
   ]
  },
  {
   "cell_type": "code",
   "execution_count": 5,
   "id": "9be60a84",
   "metadata": {},
   "outputs": [],
   "source": [
    "#Semantic in python\n",
    "age = 32\n",
    "name = (\"vipul\")"
   ]
  },
  {
   "cell_type": "code",
   "execution_count": 6,
   "id": "5314a3a7",
   "metadata": {},
   "outputs": [
    {
     "data": {
      "text/plain": [
       "str"
      ]
     },
     "execution_count": 6,
     "metadata": {},
     "output_type": "execute_result"
    }
   ],
   "source": [
    "type (name)"
   ]
  },
  {
   "cell_type": "code",
   "execution_count": 8,
   "id": "ccecebb6",
   "metadata": {},
   "outputs": [
    {
     "data": {
      "text/plain": [
       "str"
      ]
     },
     "execution_count": 8,
     "metadata": {},
     "output_type": "execute_result"
    }
   ],
   "source": [
    "#Type conversion\n",
    "\n",
    "age_str = str(age) \n",
    "type (age_str)"
   ]
  },
  {
   "cell_type": "code",
   "execution_count": 9,
   "id": "51927b22",
   "metadata": {},
   "outputs": [
    {
     "name": "stdout",
     "output_type": "stream",
     "text": [
      "32 <class 'str'>\n"
     ]
    }
   ],
   "source": [
    "age = input(\"What is the age\")\n",
    "print(age,type(age))"
   ]
  },
  {
   "cell_type": "code",
   "execution_count": 10,
   "id": "24bde426",
   "metadata": {},
   "outputs": [
    {
     "name": "stdout",
     "output_type": "stream",
     "text": [
      "hello5\n"
     ]
    }
   ],
   "source": [
    "#concatenate \n",
    "result = \"hello\" + str(5)\n",
    "print(result)"
   ]
  },
  {
   "cell_type": "code",
   "execution_count": 13,
   "id": "b9c02393",
   "metadata": {},
   "outputs": [
    {
     "name": "stdout",
     "output_type": "stream",
     "text": [
      "You are child\n"
     ]
    }
   ],
   "source": [
    "#control flow if statement\n",
    "age = 12\n",
    "if age < 13:\n",
    "    print(\"You are child\")\n",
    "elif age<18:\n",
    "    print(\"you are teenage\")\n",
    "else:\n",
    "    print(\"you are an adult\")\n",
    "\n"
   ]
  },
  {
   "cell_type": "code",
   "execution_count": 14,
   "id": "099bfe29",
   "metadata": {},
   "outputs": [
    {
     "name": "stdout",
     "output_type": "stream",
     "text": [
      "Number is positive\n",
      "Odd number\n"
     ]
    }
   ],
   "source": [
    "#Nested Conditional statements if within if\n",
    "\n",
    "#number even,odd,negative\n",
    "\n",
    "num = int(input(\"Enter your number\"))\n",
    "\n",
    "if num >0:\n",
    "    print(\"Number is positive\")\n",
    "    if num % 2==0:\n",
    "        print(\"It is even number\")\n",
    "    else:\n",
    "        print(\"Odd number\")\n",
    "\n",
    "else:\n",
    "    print(\"Number is zero or negative\")"
   ]
  },
  {
   "cell_type": "code",
   "execution_count": null,
   "id": "6922f435",
   "metadata": {},
   "outputs": [
    {
     "name": "stdout",
     "output_type": "stream",
     "text": [
      "1900 Is not a leap year\n"
     ]
    }
   ],
   "source": [
    "# Important Use case\n",
    "# Leap Year\n",
    "\n",
    "year = int(input(\"Enter Year Number\"))\n",
    "\n",
    "if year%4==0:\n",
    "    if year%100==0:\n",
    "        if year%400==0:\n",
    "            print(year,\"Is a leap year\")\n",
    "        else:\n",
    "            print(year,\"Is not a leap year\")\n",
    "    else:\n",
    "        print(year,\"is a leap year\")\n",
    "else:\n",
    "    print(year,\"is not a leap year\")\n",
    "        "
   ]
  },
  {
   "cell_type": "code",
   "execution_count": 23,
   "id": "57e1d443",
   "metadata": {},
   "outputs": [
    {
     "name": "stdout",
     "output_type": "stream",
     "text": [
      "300.0\n"
     ]
    }
   ],
   "source": [
    "#Simple Calculator\n",
    "\n",
    "num1 = float(int(input(\"Enter First Number\")))\n",
    "num2 = float(int(input(\"Enter Second Number\")))\n",
    "operation = input(\"Enter Operation\")\n",
    "\n",
    "if operation == '+':\n",
    "    result = num1+num2\n",
    "elif operation== '-':\n",
    "    result = num1-num2\n",
    "elif operation == '*':\n",
    "    result = num1*num2\n",
    "elif operation == '/':\n",
    "    if num2!=0:\n",
    "        result = num1/num2\n",
    "    else:\n",
    "        print(\"Div by zero error\")\n",
    "else:\n",
    "    print(\"Wrong operation selected\")\n",
    "\n",
    "print(result)\n",
    "\n",
    "\n",
    "\n"
   ]
  },
  {
   "cell_type": "code",
   "execution_count": 25,
   "id": "89e74f0c",
   "metadata": {},
   "outputs": [
    {
     "name": "stdout",
     "output_type": "stream",
     "text": [
      "Invalid Input\n"
     ]
    }
   ],
   "source": [
    "#Grading Score\n",
    "\n",
    "num = int(input(\"Enter Number\"))\n",
    "\n",
    "if (num > 100 or num < 0):\n",
    "    print(\"Invalid Input\")\n",
    "elif num > 90:\n",
    "    print (\"A Grade\")\n",
    "elif num > 80:\n",
    "    print (\"B Grade\")\n",
    "elif num > 70:\n",
    "    print (\"C Grade\")\n",
    "elif num > 60:\n",
    "    print (\"D Grade\")\n",
    "else:\n",
    "    print (\"F Grade\")    "
   ]
  },
  {
   "cell_type": "code",
   "execution_count": 27,
   "id": "9759df74",
   "metadata": {},
   "outputs": [
    {
     "name": "stdout",
     "output_type": "stream",
     "text": [
      "Churn Risk Customer\n"
     ]
    }
   ],
   "source": [
    "#Churn Risk\n",
    "\n",
    "purchase_count = 8\n",
    "recency = 100\n",
    "\n",
    "\n",
    "if (purchase_count >= 10 and recency <= 30):\n",
    "    print (\"Loyal Customer\")\n",
    "elif (purchase_count >= 5 and recency <= 90):\n",
    "    print(\"Active Customer\")\n",
    "elif (recency > 90):\n",
    "    print(\"Churn Risk Customer\")\n",
    "else:\n",
    "    print(\"New\")"
   ]
  },
  {
   "cell_type": "code",
   "execution_count": null,
   "id": "5da21a37",
   "metadata": {},
   "outputs": [],
   "source": []
  }
 ],
 "metadata": {
  "kernelspec": {
   "display_name": ".venv",
   "language": "python",
   "name": "python3"
  },
  "language_info": {
   "codemirror_mode": {
    "name": "ipython",
    "version": 3
   },
   "file_extension": ".py",
   "mimetype": "text/x-python",
   "name": "python",
   "nbconvert_exporter": "python",
   "pygments_lexer": "ipython3",
   "version": "3.9.13"
  }
 },
 "nbformat": 4,
 "nbformat_minor": 5
}
