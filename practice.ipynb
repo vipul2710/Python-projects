{
 "cells": [
  {
   "cell_type": "code",
   "execution_count": 2,
   "id": "4561cedb",
   "metadata": {},
   "outputs": [
    {
     "name": "stdout",
     "output_type": "stream",
     "text": [
      "you are old\n"
     ]
    }
   ],
   "source": [
    "## This is single line comment\n",
    "# Indentation \n",
    "age = 32\n",
    "if age > 30:\n",
    "    print(\"you are old\")\n",
    "else:\n",
    "    print(\"you are young\")\n"
   ]
  },
  {
   "cell_type": "code",
   "execution_count": 3,
   "id": "0a1f13f6",
   "metadata": {},
   "outputs": [
    {
     "name": "stdout",
     "output_type": "stream",
     "text": [
      "91\n"
     ]
    }
   ],
   "source": [
    "#Line Continuation (use a backslash)\n",
    "total = 1+2+3+4+5+6+7+ \\\n",
    "8+9+10+11 \\\n",
    "+12+13\n",
    "\n",
    "print(total)"
   ]
  },
  {
   "cell_type": "code",
   "execution_count": 4,
   "id": "e49b8681",
   "metadata": {},
   "outputs": [
    {
     "name": "stdout",
     "output_type": "stream",
     "text": [
      "15\n"
     ]
    }
   ],
   "source": [
    "#Multiple statement on single line\n",
    "x=5;y=10;z=x+y\n",
    "print(z)"
   ]
  },
  {
   "cell_type": "code",
   "execution_count": 5,
   "id": "9be60a84",
   "metadata": {},
   "outputs": [],
   "source": [
    "#Semantic in python\n",
    "age = 32\n",
    "name = (\"vipul\")"
   ]
  },
  {
   "cell_type": "code",
   "execution_count": 6,
   "id": "5314a3a7",
   "metadata": {},
   "outputs": [
    {
     "data": {
      "text/plain": [
       "str"
      ]
     },
     "execution_count": 6,
     "metadata": {},
     "output_type": "execute_result"
    }
   ],
   "source": [
    "type (name)"
   ]
  },
  {
   "cell_type": "code",
   "execution_count": 8,
   "id": "ccecebb6",
   "metadata": {},
   "outputs": [
    {
     "data": {
      "text/plain": [
       "str"
      ]
     },
     "execution_count": 8,
     "metadata": {},
     "output_type": "execute_result"
    }
   ],
   "source": [
    "#Type conversion\n",
    "\n",
    "age_str = str(age) \n",
    "type (age_str)"
   ]
  },
  {
   "cell_type": "code",
   "execution_count": 9,
   "id": "51927b22",
   "metadata": {},
   "outputs": [
    {
     "name": "stdout",
     "output_type": "stream",
     "text": [
      "32 <class 'str'>\n"
     ]
    }
   ],
   "source": [
    "age = input(\"What is the age\")\n",
    "print(age,type(age))"
   ]
  },
  {
   "cell_type": "code",
   "execution_count": 10,
   "id": "24bde426",
   "metadata": {},
   "outputs": [
    {
     "name": "stdout",
     "output_type": "stream",
     "text": [
      "hello5\n"
     ]
    }
   ],
   "source": [
    "#concatenate \n",
    "result = \"hello\" + str(5)\n",
    "print(result)"
   ]
  },
  {
   "cell_type": "code",
   "execution_count": 13,
   "id": "b9c02393",
   "metadata": {},
   "outputs": [
    {
     "name": "stdout",
     "output_type": "stream",
     "text": [
      "You are child\n"
     ]
    }
   ],
   "source": [
    "#control flow if statement\n",
    "age = 12\n",
    "if age < 13:\n",
    "    print(\"You are child\")\n",
    "elif age<18:\n",
    "    print(\"you are teenage\")\n",
    "else:\n",
    "    print(\"you are an adult\")\n",
    "\n"
   ]
  },
  {
   "cell_type": "code",
   "execution_count": 14,
   "id": "099bfe29",
   "metadata": {},
   "outputs": [
    {
     "name": "stdout",
     "output_type": "stream",
     "text": [
      "Number is positive\n",
      "Odd number\n"
     ]
    }
   ],
   "source": [
    "#Nested Conditional statements if within if\n",
    "\n",
    "#number even,odd,negative\n",
    "\n",
    "num = int(input(\"Enter your number\"))\n",
    "\n",
    "if num >0:\n",
    "    print(\"Number is positive\")\n",
    "    if num % 2==0:\n",
    "        print(\"It is even number\")\n",
    "    else:\n",
    "        print(\"Odd number\")\n",
    "\n",
    "else:\n",
    "    print(\"Number is zero or negative\")"
   ]
  },
  {
   "cell_type": "code",
   "execution_count": null,
   "id": "6922f435",
   "metadata": {},
   "outputs": [
    {
     "name": "stdout",
     "output_type": "stream",
     "text": [
      "1900 Is not a leap year\n"
     ]
    }
   ],
   "source": [
    "# Important Use case\n",
    "# Leap Year\n",
    "\n",
    "year = int(input(\"Enter Year Number\"))\n",
    "\n",
    "if year%4==0:\n",
    "    if year%100==0:\n",
    "        if year%400==0:\n",
    "            print(year,\"Is a leap year\")\n",
    "        else:\n",
    "            print(year,\"Is not a leap year\")\n",
    "    else:\n",
    "        print(year,\"is a leap year\")\n",
    "else:\n",
    "    print(year,\"is not a leap year\")\n",
    "        "
   ]
  },
  {
   "cell_type": "code",
   "execution_count": 23,
   "id": "57e1d443",
   "metadata": {},
   "outputs": [
    {
     "name": "stdout",
     "output_type": "stream",
     "text": [
      "300.0\n"
     ]
    }
   ],
   "source": [
    "#Simple Calculator\n",
    "\n",
    "num1 = float(int(input(\"Enter First Number\")))\n",
    "num2 = float(int(input(\"Enter Second Number\")))\n",
    "operation = input(\"Enter Operation\")\n",
    "\n",
    "if operation == '+':\n",
    "    result = num1+num2\n",
    "elif operation== '-':\n",
    "    result = num1-num2\n",
    "elif operation == '*':\n",
    "    result = num1*num2\n",
    "elif operation == '/':\n",
    "    if num2!=0:\n",
    "        result = num1/num2\n",
    "    else:\n",
    "        print(\"Div by zero error\")\n",
    "else:\n",
    "    print(\"Wrong operation selected\")\n",
    "\n",
    "print(result)\n",
    "\n",
    "\n",
    "\n"
   ]
  },
  {
   "cell_type": "code",
   "execution_count": 25,
   "id": "89e74f0c",
   "metadata": {},
   "outputs": [
    {
     "name": "stdout",
     "output_type": "stream",
     "text": [
      "Invalid Input\n"
     ]
    }
   ],
   "source": [
    "#Grading Score\n",
    "\n",
    "num = int(input(\"Enter Number\"))\n",
    "\n",
    "if (num > 100 or num < 0):\n",
    "    print(\"Invalid Input\")\n",
    "elif num > 90:\n",
    "    print (\"A Grade\")\n",
    "elif num > 80:\n",
    "    print (\"B Grade\")\n",
    "elif num > 70:\n",
    "    print (\"C Grade\")\n",
    "elif num > 60:\n",
    "    print (\"D Grade\")\n",
    "else:\n",
    "    print (\"F Grade\")    "
   ]
  },
  {
   "cell_type": "code",
   "execution_count": 27,
   "id": "9759df74",
   "metadata": {},
   "outputs": [
    {
     "name": "stdout",
     "output_type": "stream",
     "text": [
      "Churn Risk Customer\n"
     ]
    }
   ],
   "source": [
    "#Churn Risk\n",
    "\n",
    "purchase_count = 8\n",
    "recency = 100\n",
    "\n",
    "\n",
    "if (purchase_count >= 10 and recency <= 30):\n",
    "    print (\"Loyal Customer\")\n",
    "elif (purchase_count >= 5 and recency <= 90):\n",
    "    print(\"Active Customer\")\n",
    "elif (recency > 90):\n",
    "    print(\"Churn Risk Customer\")\n",
    "else:\n",
    "    print(\"New\")"
   ]
  },
  {
   "cell_type": "code",
   "execution_count": 1,
   "id": "5da21a37",
   "metadata": {},
   "outputs": [
    {
     "name": "stdout",
     "output_type": "stream",
     "text": [
      "V\n",
      "i\n",
      "p\n",
      "u\n",
      "l\n",
      " \n",
      "M\n",
      "e\n",
      "h\n",
      "r\n",
      "a\n"
     ]
    }
   ],
   "source": [
    "#loop\n",
    "str = \"Vipul Mehra\"\n",
    "\n",
    "for i in str:\n",
    "    print(i)"
   ]
  },
  {
   "cell_type": "code",
   "execution_count": 3,
   "id": "530d0175",
   "metadata": {},
   "outputs": [
    {
     "name": "stdout",
     "output_type": "stream",
     "text": [
      "0\n",
      "1\n",
      "2\n",
      "3\n",
      "4\n"
     ]
    }
   ],
   "source": [
    "#while loop as long as condition is true\n",
    "\n",
    "count = 0\n",
    "\n",
    "while count <5:\n",
    "    print(count)\n",
    "    count = count+1"
   ]
  },
  {
   "cell_type": "code",
   "execution_count": 4,
   "id": "d31b5c9e",
   "metadata": {},
   "outputs": [
    {
     "name": "stdout",
     "output_type": "stream",
     "text": [
      "0\n",
      "1\n",
      "2\n",
      "3\n",
      "4\n"
     ]
    }
   ],
   "source": [
    "#Loop Control statement\n",
    "#break statement exits the loop prematurely\n",
    "\n",
    "for i in range(10):\n",
    "    if i == 5:\n",
    "        break\n",
    "    print (i)\n"
   ]
  },
  {
   "cell_type": "code",
   "execution_count": 6,
   "id": "a053ce54",
   "metadata": {},
   "outputs": [
    {
     "name": "stdout",
     "output_type": "stream",
     "text": [
      "1\n",
      "2\n",
      "3\n",
      "4\n",
      "6\n",
      "7\n",
      "8\n",
      "9\n",
      "11\n",
      "12\n",
      "13\n",
      "14\n",
      "16\n",
      "17\n",
      "18\n",
      "19\n"
     ]
    }
   ],
   "source": [
    "#continue\n",
    "\n",
    "for i in range(20):\n",
    "    if i%5 ==0:\n",
    "        continue\n",
    "    print (i)\n",
    "\n"
   ]
  },
  {
   "cell_type": "code",
   "execution_count": 8,
   "id": "f17308a6",
   "metadata": {},
   "outputs": [
    {
     "name": "stdout",
     "output_type": "stream",
     "text": [
      "i:0 and j:0\n",
      "i:0 and j:1\n",
      "i:1 and j:0\n",
      "i:1 and j:1\n",
      "i:2 and j:0\n",
      "i:2 and j:1\n"
     ]
    }
   ],
   "source": [
    "#Nested loops\n",
    "\n",
    "for i in range(3):\n",
    "    for j in range(2):\n",
    "        print (f\"i:{i} and j:{j}\")"
   ]
  },
  {
   "cell_type": "code",
   "execution_count": 9,
   "id": "d3830abc",
   "metadata": {},
   "outputs": [
    {
     "name": "stdout",
     "output_type": "stream",
     "text": [
      "sum of first 10 natural numbers: 55\n"
     ]
    }
   ],
   "source": [
    "#calculat sum of fir N natural numbers using while and for loop\n",
    "\n",
    "#while loop\n",
    "\n",
    "n = 10\n",
    "sum = 0\n",
    "count = 1\n",
    "while count <= n:\n",
    "    sum = sum+count\n",
    "    count = count+1\n",
    "\n",
    "print (\"sum of first 10 natural numbers:\",sum)"
   ]
  },
  {
   "cell_type": "code",
   "execution_count": 10,
   "id": "d48d29e3",
   "metadata": {},
   "outputs": [
    {
     "name": "stdout",
     "output_type": "stream",
     "text": [
      "sum of first 10 natural numbers: 55\n"
     ]
    }
   ],
   "source": [
    "n = 10\n",
    "sum = 0\n",
    "count = 1\n",
    "for i in range(11):\n",
    "    sum = sum+i\n",
    "\n",
    "print (\"sum of first 10 natural numbers:\",sum)"
   ]
  },
  {
   "cell_type": "code",
   "execution_count": 12,
   "id": "782ec78f",
   "metadata": {},
   "outputs": [
    {
     "name": "stdout",
     "output_type": "stream",
     "text": [
      "2\n",
      "3\n",
      "5\n",
      "7\n",
      "11\n",
      "13\n",
      "17\n",
      "19\n",
      "23\n",
      "29\n",
      "31\n",
      "37\n",
      "41\n",
      "43\n",
      "47\n",
      "53\n",
      "59\n",
      "61\n",
      "67\n",
      "71\n",
      "73\n",
      "79\n",
      "83\n",
      "89\n",
      "97\n"
     ]
    }
   ],
   "source": [
    "# Prime number between 1 and 100\n",
    "\n",
    "for num in range(1,101):\n",
    "    if num > 1:\n",
    "        for i in range(2,num):\n",
    "            if num%i ==0:\n",
    "                break\n",
    "        else:\n",
    "            print (num)\n",
    "                "
   ]
  },
  {
   "cell_type": "code",
   "execution_count": 13,
   "id": "195277e9",
   "metadata": {},
   "outputs": [
    {
     "name": "stdout",
     "output_type": "stream",
     "text": [
      "5050\n"
     ]
    }
   ],
   "source": [
    "#Write a program to calculate the sum of all numbers from 1 to 100.\n",
    "\n",
    "sum = 0\n",
    "for i in range(0,101):\n",
    "    sum = sum+i\n",
    "\n",
    "print (sum)"
   ]
  },
  {
   "cell_type": "code",
   "execution_count": 19,
   "id": "0d8d2bfc",
   "metadata": {},
   "outputs": [
    {
     "name": "stdout",
     "output_type": "stream",
     "text": [
      "6\n"
     ]
    }
   ],
   "source": [
    "#FActorial\n",
    "\n",
    "n= 3\n",
    "result = 1\n",
    "for i in range (1,n+1):\n",
    "    result = result*i\n",
    "\n",
    "print (result)"
   ]
  },
  {
   "cell_type": "code",
   "execution_count": 24,
   "id": "7bd7b7c9",
   "metadata": {},
   "outputs": [
    {
     "name": "stdout",
     "output_type": "stream",
     "text": [
      "1200\n",
      "3000\n",
      "1500\n"
     ]
    }
   ],
   "source": [
    "#Print only the sales greater than 1000.\n",
    "sales = [1200, 800, 950, 3000, 1500, 400, 700]\n",
    "\n",
    "for sale in sales:\n",
    "    if sale > 1000:\n",
    "        print (sale)\n"
   ]
  }
 ],
 "metadata": {
  "kernelspec": {
   "display_name": ".venv",
   "language": "python",
   "name": "python3"
  },
  "language_info": {
   "codemirror_mode": {
    "name": "ipython",
    "version": 3
   },
   "file_extension": ".py",
   "mimetype": "text/x-python",
   "name": "python",
   "nbconvert_exporter": "python",
   "pygments_lexer": "ipython3",
   "version": "3.9.13"
  }
 },
 "nbformat": 4,
 "nbformat_minor": 5
}
